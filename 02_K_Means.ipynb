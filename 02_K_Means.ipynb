{
  "nbformat": 4,
  "nbformat_minor": 0,
  "metadata": {
    "colab": {
      "name": "02 K-Means.ipynb",
      "provenance": []
    },
    "kernelspec": {
      "name": "python3",
      "display_name": "Python 3"
    }
  },
  "cells": [
    {
      "cell_type": "code",
      "metadata": {
        "id": "gVqWwcLQ95_U"
      },
      "source": [
        "# Previous-> SUPERVISED algos. Supervised algo means that you know what the label is\n",
        "# LABEL was Diagnosis!\n",
        "# when we don't know the label, then we can only CLASSIFY the points based on various factors,\n",
        "# such as - are they kept next to each other?\n",
        "# UNSUPERVISED ALGOS-> no idea what the label is, just figure out if things could be kept\n",
        "# together\n",
        "\n",
        "\n",
        "\n",
        "import pandas as pd\n",
        "df = pd.DataFrame({\n",
        "    'x':[12,20,28,18,29,33,24,45,52,45,51,52,55,53,55,61,65,66,72,22],\n",
        "    'y':[39, 35, 30, 52, 55, 53, 46, 55, 59, 63,70, 66,63,58,23,14,8,19,7,24]\n",
        "})\n",
        "# THIS IS THE ONLY DATA THAT WE HAVE-> there is no output or label to guide us\n",
        "# Hence, no xtrain,ytrain,xtest, ytest either!!!\n"
      ],
      "execution_count": 1,
      "outputs": []
    },
    {
      "cell_type": "markdown",
      "metadata": {
        "id": "RtvTZZ3XLaem"
      },
      "source": [
        "1) ASSUME k number of CENTROIDS. These centroids are the no. of clusters you want to divide your data into\n",
        "\n",
        "2) RANDOMLY select k points from given dataset or you can even select your OWN random points\n",
        "\n",
        "3) CALCULATE DISTANCE of EVERY point from these centroids\n",
        "\n",
        "4) EACH point will be classified to the closest (NEAREST) CENTROID\n",
        "\n",
        "5) Is this the best answer? NO? [DISTANCE algorithms-> STD -> MIN STD for best algo]\n",
        "\n",
        "6) MOVE THE CENTROIDS to their MEAN\n",
        "\n",
        "7) GO TO STEP 3 again. Keep repeating till all the points are visited or min STD achieved."
      ]
    },
    {
      "cell_type": "code",
      "metadata": {
        "id": "iSWrNkY9KgmK"
      },
      "source": [
        "import numpy as np\n",
        "import matplotlib.pyplot as plt\n",
        "%matplotlib inline\n",
        "# if you want to use iPython's matplotlib\n",
        "# inline -> use local definition not official python definition\n",
        "# local definition-> Whatever Colab's iPython has decided\n",
        "# here matplotlib is a HTML/CSS/JS library\n",
        "# on local machine matplotlib is a C++ library\n",
        "\n"
      ],
      "execution_count": 2,
      "outputs": []
    },
    {
      "cell_type": "code",
      "metadata": {
        "id": "fAHR9nnDPZRe",
        "colab": {
          "base_uri": "https://localhost:8080/"
        },
        "outputId": "427a77cf-f348-4e07-a73c-d98722d92a67"
      },
      "source": [
        "# to ensure we get the same randomness everytime we run random functions, we will fix the seed\n",
        "# for randomness -> random_state\n",
        "np.random.seed(42) # EVEN THO THERE IS RANDOMNESS -> SAME randomness is applied for all of us\n",
        "k = 3 # ASSUMPTION\n",
        "centroids = {i+1:[np.random.randint(0,80),np.random.randint(0,80) ]  for i in range(k)} # (x,y)\n",
        "centroids\n"
      ],
      "execution_count": 3,
      "outputs": [
        {
          "output_type": "execute_result",
          "data": {
            "text/plain": [
              "{1: [51, 14], 2: [71, 60], 3: [20, 74]}"
            ]
          },
          "metadata": {},
          "execution_count": 3
        }
      ]
    },
    {
      "cell_type": "code",
      "metadata": {
        "id": "sCbBjHX8Rj87",
        "colab": {
          "base_uri": "https://localhost:8080/",
          "height": 451
        },
        "outputId": "424f5cd0-045c-4422-be0a-d1a437e6295d"
      },
      "source": [
        "fig = plt.figure(figsize=(5,5))\n",
        "plt.scatter(df['x'], df['y'], color='k') # k means black\n",
        "# let's plot our centroids overlay on this scatter plot\n",
        "color_dic = {1:'r', 2:'b', 3:'g'}\n",
        "for i in centroids.keys():\n",
        "  plt.scatter(*centroids[i], color=color_dic[i])\n",
        "plt.xlim(0,80) # min and max of scale on x -axis\n",
        "plt.ylim(0,80) # same as above on y axis\n",
        "plt.show()"
      ],
      "execution_count": 4,
      "outputs": [
        {
          "output_type": "display_data",
          "data": {
            "text/plain": [
              "<Figure size 500x500 with 1 Axes>"
            ],
            "image/png": "[encoded data removed]"
          },
          "metadata": {}
        }
      ]
    },
    {
      "cell_type": "code",
      "metadata": {
        "id": "m5kwoePSSsFQ"
      },
      "source": [
        "def Fit(df, centroids):\n",
        "  for i in centroids.keys():\n",
        "    # squared root distance formulae\n",
        "    # np.root((x2-x1)**2 + (y2-y1)**2) -> (x2,y2) is the centroid, (x1,y1) are all my data points\n",
        "    df['distance_from_{}'.format(i)] = (np.sqrt((df['x']-centroids[i][0])**2 + (df['y']-centroids[i][1])**2))\n",
        "  # create new cols for comparison of which distance is least\n",
        "  # CALCULATE DISTANCE from each centroid, and CREATE a COLUMN out of it in DF\n",
        "  centroid_new_cols = ['distance_from_{}'.format(i) for i in centroids.keys()]\n",
        "  # SELECT the column with SMALLEST DISTANCE -> IDXMIN --> Index of MINIMUM VALUE [ distance_from_1:10, distance_from_2:20, distance_from_3:15] -> distance_from_1\n",
        "  df['closest'] = df.loc[:,centroid_new_cols].idxmin(axis=1) # axis=1, accessing a new dimension in existing datafram\n",
        "  # distance_from_3 was smalled value, and that has been entered as CLOSEST value\n",
        "  # df['closest'] -> distance_from_3, distance_from_1 and so on\n",
        "  df['closest'] = df['closest'].map(lambda x: int(x.lstrip('distance_from_'))) # remove extra words and leave on centroid number\n",
        "  # converting distance_from_3 to 3\n",
        "  df['color'] = df['closest'].map(lambda x: color_dic[x])\n",
        "  return df\n"
      ],
      "execution_count": 7,
      "outputs": []
    },
    {
      "cell_type": "code",
      "metadata": {
        "id": "hbcYUlIPZ1US"
      },
      "source": [
        "\n"
      ],
      "execution_count": null,
      "outputs": []
    },
    {
      "cell_type": "code",
      "metadata": {
        "id": "a7H1ZfYcWItT",
        "colab": {
          "base_uri": "https://localhost:8080/",
          "height": 363
        },
        "outputId": "ec1228a7-12ae-440a-c2bd-877960bd03ea"
      },
      "source": [
        "df_modified = Fit(df, centroids)\n",
        "df_modified.head(10)"
      ],
      "execution_count": 8,
      "outputs": [
        {
          "output_type": "execute_result",
          "data": {
            "text/plain": [
              "    x   y  distance_from_1  distance_from_2  distance_from_3  closest color\n",
              "0  12  39        46.324939        62.625873        35.902646        3     g\n",
              "1  20  35        37.443290        56.797887        39.000000        1     r\n",
              "2  28  30        28.017851        52.430907        44.721360        1     r\n",
              "3  18  52        50.328918        53.600373        22.090722        3     g\n",
              "4  29  55        46.529560        42.296572        21.023796        3     g\n",
              "5  33  53        42.953463        38.639358        24.698178        3     g\n",
              "6  24  46        41.868843        49.040799        28.284271        3     g\n",
              "7  45  55        41.436699        26.476405        31.400637        2     b\n",
              "8  52  59        45.011110        19.026298        35.341194        2     b\n",
              "9  45  63        49.365980        26.172505        27.313001        2     b"
            ],
            "text/html": [
              "\n",
              "  <div id=\"df-82d29e1f-d5eb-4de8-b0d9-bf530ef8592e\" class=\"colab-df-container\">\n",
              "    <div>\n",
              "<style scoped>\n",
              "    .dataframe tbody tr th:only-of-type {\n",
              "        vertical-align: middle;\n",
              "    }\n",
              "\n",
              "    .dataframe tbody tr th {\n",
              "        vertical-align: top;\n",
              "    }\n",
              "\n",
              "    .dataframe thead th {\n",
              "        text-align: right;\n",
              "    }\n",
              "</style>\n",
              "<table border=\"1\" class=\"dataframe\">\n",
              "  <thead>\n",
              "    <tr style=\"text-align: right;\">\n",
              "      <th></th>\n",
              "      <th>x</th>\n",
              "      <th>y</th>\n",
              "      <th>distance_from_1</th>\n",
              "      <th>distance_from_2</th>\n",
              "      <th>distance_from_3</th>\n",
              "      <th>closest</th>\n",
              "      <th>color</th>\n",
              "    </tr>\n",
              "  </thead>\n",
              "  <tbody>\n",
              "    <tr>\n",
              "      <th>0</th>\n",
              "      <td>12</td>\n",
              "      <td>39</td>\n",
              "      <td>46.324939</td>\n",
              "      <td>62.625873</td>\n",
              "      <td>35.902646</td>\n",
              "      <td>3</td>\n",
              "      <td>g</td>\n",
              "    </tr>\n",
              "    <tr>\n",
              "      <th>1</th>\n",
              "      <td>20</td>\n",
              "      <td>35</td>\n",
              "      <td>37.443290</td>\n",
              "      <td>56.797887</td>\n",
              "      <td>39.000000</td>\n",
              "      <td>1</td>\n",
              "      <td>r</td>\n",
              "    </tr>\n",
              "    <tr>\n",
              "      <th>2</th>\n",
              "      <td>28</td>\n",
              "      <td>30</td>\n",
              "      <td>28.017851</td>\n",
              "      <td>52.430907</td>\n",
              "      <td>44.721360</td>\n",
              "      <td>1</td>\n",
              "      <td>r</td>\n",
              "    </tr>\n",
              "    <tr>\n",
              "      <th>3</th>\n",
              "      <td>18</td>\n",
              "      <td>52</td>\n",
              "      <td>50.328918</td>\n",
              "      <td>53.600373</td>\n",
              "      <td>22.090722</td>\n",
              "      <td>3</td>\n",
              "      <td>g</td>\n",
              "    </tr>\n",
              "    <tr>\n",
              "      <th>4</th>\n",
              "      <td>29</td>\n",
              "      <td>55</td>\n",
              "      <td>46.529560</td>\n",
              "      <td>42.296572</td>\n",
              "      <td>21.023796</td>\n",
              "      <td>3</td>\n",
              "      <td>g</td>\n",
              "    </tr>\n",
              "    <tr>\n",
              "      <th>5</th>\n",
              "      <td>33</td>\n",
              "      <td>53</td>\n",
              "      <td>42.953463</td>\n",
              "      <td>38.639358</td>\n",
              "      <td>24.698178</td>\n",
              "      <td>3</td>\n",
              "      <td>g</td>\n",
              "    </tr>\n",
              "    <tr>\n",
              "      <th>6</th>\n",
              "      <td>24</td>\n",
              "      <td>46</td>\n",
              "      <td>41.868843</td>\n",
              "      <td>49.040799</td>\n",
              "      <td>28.284271</td>\n",
              "      <td>3</td>\n",
              "      <td>g</td>\n",
              "    </tr>\n",
              "    <tr>\n",
              "      <th>7</th>\n",
              "      <td>45</td>\n",
              "      <td>55</td>\n",
              "      <td>41.436699</td>\n",
              "      <td>26.476405</td>\n",
              "      <td>31.400637</td>\n",
              "      <td>2</td>\n",
              "      <td>b</td>\n",
              "    </tr>\n",
              "    <tr>\n",
              "      <th>8</th>\n",
              "      <td>52</td>\n",
              "      <td>59</td>\n",
              "      <td>45.011110</td>\n",
              "      <td>19.026298</td>\n",
              "      <td>35.341194</td>\n",
              "      <td>2</td>\n",
              "      <td>b</td>\n",
              "    </tr>\n",
              "    <tr>\n",
              "      <th>9</th>\n",
              "      <td>45</td>\n",
              "      <td>63</td>\n",
              "      <td>49.365980</td>\n",
              "      <td>26.172505</td>\n",
              "      <td>27.313001</td>\n",
              "      <td>2</td>\n",
              "      <td>b</td>\n",
              "    </tr>\n",
              "  </tbody>\n",
              "</table>\n",
              "</div>\n",
              "    <div class=\"colab-df-buttons\">\n",
              "\n",
              "  <div class=\"colab-df-container\">\n",
              "    <button class=\"colab-df-convert\" onclick=\"convertToInteractive('df-82d29e1f-d5eb-4de8-b0d9-bf530ef8592e')\"\n",
              "            title=\"Convert this dataframe to an interactive table.\"\n",
              "            style=\"display:none;\">\n",
              "\n",
              "  <svg xmlns=\"http://www.w3.org/2000/svg\" height=\"24px\" viewBox=\"0 -960 960 960\">\n",
              "    <path d=\"M120-120v-720h720v720H120Zm60-500h600v-160H180v160Zm220 220h160v-160H400v160Zm0 220h160v-160H400v160ZM180-400h160v-160H180v160Zm440 0h160v-160H620v160ZM180-180h160v-160H180v160Zm440 0h160v-160H620v160Z\"/>\n",
              "  </svg>\n",
              "    </button>\n",
              "\n",
              "  <style>\n",
              "    .colab-df-container {\n",
              "      display:flex;\n",
              "      gap: 12px;\n",
              "    }\n",
              "\n",
              "    .colab-df-convert {\n",
              "      background-color: #E8F0FE;\n",
              "      border: none;\n",
              "      border-radius: 50%;\n",
              "      cursor: pointer;\n",
              "      display: none;\n",
              "      fill: #1967D2;\n",
              "      height: 32px;\n",
              "      padding: 0 0 0 0;\n",
              "      width: 32px;\n",
              "    }\n",
              "\n",
              "    .colab-df-convert:hover {\n",
              "      background-color: #E2EBFA;\n",
              "      box-shadow: 0px 1px 2px rgba(60, 64, 67, 0.3), 0px 1px 3px 1px rgba(60, 64, 67, 0.15);\n",
              "      fill: #174EA6;\n",
              "    }\n",
              "\n",
              "    .colab-df-buttons div {\n",
              "      margin-bottom: 4px;\n",
              "    }\n",
              "\n",
              "    [theme=dark] .colab-df-convert {\n",
              "      background-color: #3B4455;\n",
              "      fill: #D2E3FC;\n",
              "    }\n",
              "\n",
              "    [theme=dark] .colab-df-convert:hover {\n",
              "      background-color: #434B5C;\n",
              "      box-shadow: 0px 1px 3px 1px rgba(0, 0, 0, 0.15);\n",
              "      filter: drop-shadow(0px 1px 2px rgba(0, 0, 0, 0.3));\n",
              "      fill: #FFFFFF;\n",
              "    }\n",
              "  </style>\n",
              "\n",
              "    <script>\n",
              "      const buttonEl =\n",
              "        document.querySelector('#df-82d29e1f-d5eb-4de8-b0d9-bf530ef8592e button.colab-df-convert');\n",
              "      buttonEl.style.display =\n",
              "        google.colab.kernel.accessAllowed ? 'block' : 'none';\n",
              "\n",
              "      async function convertToInteractive(key) {\n",
              "        const element = document.querySelector('#df-82d29e1f-d5eb-4de8-b0d9-bf530ef8592e');\n",
              "        const dataTable =\n",
              "          await google.colab.kernel.invokeFunction('convertToInteractive',\n",
              "                                                    [key], {});\n",
              "        if (!dataTable) return;\n",
              "\n",
              "        const docLinkHtml = 'Like what you see? Visit the ' +\n",
              "          '<a target=\"_blank\" href=https://colab.research.google.com/notebooks/data_table.ipynb>data table notebook</a>'\n",
              "          + ' to learn more about interactive tables.';\n",
              "        element.innerHTML = '';\n",
              "        dataTable['output_type'] = 'display_data';\n",
              "        await google.colab.output.renderOutput(dataTable, element);\n",
              "        const docLink = document.createElement('div');\n",
              "        docLink.innerHTML = docLinkHtml;\n",
              "        element.appendChild(docLink);\n",
              "      }\n",
              "    </script>\n",
              "  </div>\n",
              "\n",
              "\n",
              "<div id=\"df-740542cc-f634-462b-8cbf-c69ba7c28328\">\n",
              "  <button class=\"colab-df-quickchart\" onclick=\"quickchart('df-740542cc-f634-462b-8cbf-c69ba7c28328')\"\n",
              "            title=\"Suggest charts\"\n",
              "            style=\"display:none;\">\n",
              "\n",
              "<svg xmlns=\"http://www.w3.org/2000/svg\" height=\"24px\"viewBox=\"0 0 24 24\"\n",
              "     width=\"24px\">\n",
              "    <g>\n",
              "        <path d=\"M19 3H5c-1.1 0-2 .9-2 2v14c0 1.1.9 2 2 2h14c1.1 0 2-.9 2-2V5c0-1.1-.9-2-2-2zM9 17H7v-7h2v7zm4 0h-2V7h2v10zm4 0h-2v-4h2v4z\"/>\n",
              "    </g>\n",
              "</svg>\n",
              "  </button>\n",
              "\n",
              "<style>\n",
              "  .colab-df-quickchart {\n",
              "      --bg-color: #E8F0FE;\n",
              "      --fill-color: #1967D2;\n",
              "      --hover-bg-color: #E2EBFA;\n",
              "      --hover-fill-color: #174EA6;\n",
              "      --disabled-fill-color: #AAA;\n",
              "      --disabled-bg-color: #DDD;\n",
              "  }\n",
              "\n",
              "  [theme=dark] .colab-df-quickchart {\n",
              "      --bg-color: #3B4455;\n",
              "      --fill-color: #D2E3FC;\n",
              "      --hover-bg-color: #434B5C;\n",
              "      --hover-fill-color: #FFFFFF;\n",
              "      --disabled-bg-color: #3B4455;\n",
              "      --disabled-fill-color: #666;\n",
              "  }\n",
              "\n",
              "  .colab-df-quickchart {\n",
              "    background-color: var(--bg-color);\n",
              "    border: none;\n",
              "    border-radius: 50%;\n",
              "    cursor: pointer;\n",
              "    display: none;\n",
              "    fill: var(--fill-color);\n",
              "    height: 32px;\n",
              "    padding: 0;\n",
              "    width: 32px;\n",
              "  }\n",
              "\n",
              "  .colab-df-quickchart:hover {\n",
              "    background-color: var(--hover-bg-color);\n",
              "    box-shadow: 0 1px 2px rgba(60, 64, 67, 0.3), 0 1px 3px 1px rgba(60, 64, 67, 0.15);\n",
              "    fill: var(--button-hover-fill-color);\n",
              "  }\n",
              "\n",
              "  .colab-df-quickchart-complete:disabled,\n",
              "  .colab-df-quickchart-complete:disabled:hover {\n",
              "    background-color: var(--disabled-bg-color);\n",
              "    fill: var(--disabled-fill-color);\n",
              "    box-shadow: none;\n",
              "  }\n",
              "\n",
              "  .colab-df-spinner {\n",
              "    border: 2px solid var(--fill-color);\n",
              "    border-color: transparent;\n",
              "    border-bottom-color: var(--fill-color);\n",
              "    animation:\n",
              "      spin 1s steps(1) infinite;\n",
              "  }\n",
              "\n",
              "  @keyframes spin {\n",
              "    0% {\n",
              "      border-color: transparent;\n",
              "      border-bottom-color: var(--fill-color);\n",
              "      border-left-color: var(--fill-color);\n",
              "    }\n",
              "    20% {\n",
              "      border-color: transparent;\n",
              "      border-left-color: var(--fill-color);\n",
              "      border-top-color: var(--fill-color);\n",
              "    }\n",
              "    30% {\n",
              "      border-color: transparent;\n",
              "      border-left-color: var(--fill-color);\n",
              "      border-top-color: var(--fill-color);\n",
              "      border-right-color: var(--fill-color);\n",
              "    }\n",
              "    40% {\n",
              "      border-color: transparent;\n",
              "      border-right-color: var(--fill-color);\n",
              "      border-top-color: var(--fill-color);\n",
              "    }\n",
              "    60% {\n",
              "      border-color: transparent;\n",
              "      border-right-color: var(--fill-color);\n",
              "    }\n",
              "    80% {\n",
              "      border-color: transparent;\n",
              "      border-right-color: var(--fill-color);\n",
              "      border-bottom-color: var(--fill-color);\n",
              "    }\n",
              "    90% {\n",
              "      border-color: transparent;\n",
              "      border-bottom-color: var(--fill-color);\n",
              "    }\n",
              "  }\n",
              "</style>\n",
              "\n",
              "  <script>\n",
              "    async function quickchart(key) {\n",
              "      const quickchartButtonEl =\n",
              "        document.querySelector('#' + key + ' button');\n",
              "      quickchartButtonEl.disabled = true;  // To prevent multiple clicks.\n",
              "      quickchartButtonEl.classList.add('colab-df-spinner');\n",
              "      try {\n",
              "        const charts = await google.colab.kernel.invokeFunction(\n",
              "            'suggestCharts', [key], {});\n",
              "      } catch (error) {\n",
              "        console.error('Error during call to suggestCharts:', error);\n",
              "      }\n",
              "      quickchartButtonEl.classList.remove('colab-df-spinner');\n",
              "      quickchartButtonEl.classList.add('colab-df-quickchart-complete');\n",
              "    }\n",
              "    (() => {\n",
              "      let quickchartButtonEl =\n",
              "        document.querySelector('#df-740542cc-f634-462b-8cbf-c69ba7c28328 button');\n",
              "      quickchartButtonEl.style.display =\n",
              "        google.colab.kernel.accessAllowed ? 'block' : 'none';\n",
              "    })();\n",
              "  </script>\n",
              "</div>\n",
              "\n",
              "    </div>\n",
              "  </div>\n"
            ],
            "application/vnd.google.colaboratory.intrinsic+json": {
              "type": "dataframe",
              "variable_name": "df_modified",
              "summary": "{\n  \"name\": \"df_modified\",\n  \"rows\": 20,\n  \"fields\": [\n    {\n      \"column\": \"x\",\n      \"properties\": {\n        \"dtype\": \"number\",\n        \"std\": 18,\n        \"min\": 12,\n        \"max\": 72,\n        \"num_unique_values\": 17,\n        \"samples\": [\n          12,\n          20,\n          33\n        ],\n        \"semantic_type\": \"\",\n        \"description\": \"\"\n      }\n    },\n    {\n      \"column\": \"y\",\n      \"properties\": {\n        \"dtype\": \"number\",\n        \"std\": 20,\n        \"min\": 7,\n        \"max\": 70,\n        \"num_unique_values\": 18,\n        \"samples\": [\n          39,\n          35,\n          63\n        ],\n        \"semantic_type\": \"\",\n        \"description\": \"\"\n      }\n    },\n    {\n      \"column\": \"distance_from_1\",\n      \"properties\": {\n        \"dtype\": \"number\",\n        \"std\": 14.80462212455348,\n        \"min\": 9.848857801796104,\n        \"max\": 56.0,\n        \"num_unique_values\": 20,\n        \"samples\": [\n          46.32493928760188,\n          15.811388300841896,\n          10.0\n        ],\n        \"semantic_type\": \"\",\n        \"description\": \"\"\n      }\n    },\n    {\n      \"column\": \"distance_from_2\",\n      \"properties\": {\n        \"dtype\": \"number\",\n        \"std\": 15.557345883153156,\n        \"min\": 16.278820596099706,\n        \"max\": 62.625873247404705,\n        \"num_unique_values\": 20,\n        \"samples\": [\n          62.625873247404705,\n          41.30375285612676,\n          47.07440918375928\n        ],\n        \"semantic_type\": \"\",\n        \"description\": \"\"\n      }\n    },\n    {\n      \"column\": \"distance_from_3\",\n      \"properties\": {\n        \"dtype\": \"number\",\n        \"std\": 19.884431986394002,\n        \"min\": 21.02379604162864,\n        \"max\": 84.81155581640984,\n        \"num_unique_values\": 20,\n        \"samples\": [\n          35.90264614203248,\n          71.7007670809734,\n          72.67048919609665\n        ],\n        \"semantic_type\": \"\",\n        \"description\": \"\"\n      }\n    },\n    {\n      \"column\": \"closest\",\n      \"properties\": {\n        \"dtype\": \"number\",\n        \"std\": 0,\n        \"min\": 1,\n        \"max\": 3,\n        \"num_unique_values\": 3,\n        \"samples\": [\n          3,\n          1,\n          2\n        ],\n        \"semantic_type\": \"\",\n        \"description\": \"\"\n      }\n    },\n    {\n      \"column\": \"color\",\n      \"properties\": {\n        \"dtype\": \"category\",\n        \"num_unique_values\": 3,\n        \"samples\": [\n          \"g\",\n          \"r\",\n          \"b\"\n        ],\n        \"semantic_type\": \"\",\n        \"description\": \"\"\n      }\n    }\n  ]\n}"
            }
          },
          "metadata": {},
          "execution_count": 8
        }
      ]
    },
    {
      "cell_type": "code",
      "metadata": {
        "id": "PsiKJmAOW--S",
        "colab": {
          "base_uri": "https://localhost:8080/",
          "height": 451
        },
        "outputId": "1e2ccd6a-91cb-4e1e-eda9-16156554f468"
      },
      "source": [
        "fig = plt.figure(figsize=(5,5))\n",
        "plt.scatter(df_modified['x'], df_modified['y'], color=df_modified['color']) # k means black\n",
        "color_dic = {1:'r', 2:'b', 3:'g'}\n",
        "for i in centroids.keys():\n",
        "  plt.scatter(*centroids[i], color=color_dic[i]) # overlaying centroids\n",
        "plt.xlim(0,80) # min and max of scale on x -axis\n",
        "plt.ylim(0,80) # same as above on y axis\n",
        "plt.show()\n",
        "# EITHER syntax or SCIENCE\n",
        "\n"
      ],
      "execution_count": 9,
      "outputs": [
        {
          "output_type": "display_data",
          "data": {
            "text/plain": [
              "<Figure size 500x500 with 1 Axes>"
            ],
            "image/png": "[encoded data removed]"
          },
          "metadata": {}
        }
      ]
    },
    {
      "cell_type": "code",
      "metadata": {
        "id": "GEtVLa3uYyjR",
        "colab": {
          "base_uri": "https://localhost:8080/"
        },
        "outputId": "ea9ade15-218f-4da9-bdb9-b7dce2275427"
      },
      "source": [
        "# update centroids\n",
        "# prev centroids to move to new centroids\n",
        "# DEEP copy of existing centroids\n",
        "# https://www.geeksforgeeks.org/copy-python-deep-copy-shallow-copy/\n",
        "\n",
        "import copy\n",
        "old_centroids = copy.deepcopy(centroids)\n",
        "def update_centroids(df, k):\n",
        "  centroids_new = centroids\n",
        "  for i in centroids.keys():\n",
        "    centroids_new[i][0] = np.mean(df[df['closest']==i]['x']) # UPDATING to MEAN of the cluster (new centroid), instead of mean, if you took MODE, the same algo is called k-mode\n",
        "    centroids_new[i][1] = np.mean(df[df['closest']==i]['y'])\n",
        "  return centroids_new\n",
        "\n",
        "new_centroids = update_centroids(df_modified, k )\n",
        "new_centroids\n"
      ],
      "execution_count": 10,
      "outputs": [
        {
          "output_type": "execute_result",
          "data": {
            "text/plain": [
              "{1: [48.625, 20.0], 2: [50.42857142857143, 62.0], 3: [23.2, 49.0]}"
            ]
          },
          "metadata": {},
          "execution_count": 10
        }
      ]
    },
    {
      "cell_type": "code",
      "metadata": {
        "id": "I2tIPz4jgYS2",
        "colab": {
          "base_uri": "https://localhost:8080/",
          "height": 451
        },
        "outputId": "f94da4b0-47ff-40a6-d189-93c967bc9a48"
      },
      "source": [
        "df_new = Fit(df_modified, new_centroids)\n",
        "fig = plt.figure(figsize=(5,5))\n",
        "plt.scatter(df_new['x'], df_new['y'], color=df_new['color']) # k means black\n",
        "color_dic2 = {1:'k', 2:'k', 3:'k'}\n",
        "for i in new_centroids.keys():\n",
        "  plt.scatter(*new_centroids[i], color=color_dic2[i]) # overlaying centroids\n",
        "plt.xlim(0,80) # min and max of scale on x -axis\n",
        "plt.ylim(0,80) # same as above on y axis\n",
        "plt.show()"
      ],
      "execution_count": 11,
      "outputs": [
        {
          "output_type": "display_data",
          "data": {
            "text/plain": [
              "<Figure size 500x500 with 1 Axes>"
            ],
            "image/png": "[encoded data removed]"
          },
          "metadata": {}
        }
      ]
    },
    {
      "cell_type": "code",
      "metadata": {
        "id": "jw2UhdT3hl0-",
        "colab": {
          "base_uri": "https://localhost:8080/",
          "height": 451
        },
        "outputId": "ee69e3ee-52d5-4f56-b1fc-addda66fc521"
      },
      "source": [
        "# KEEP UPDATING\n",
        "\n",
        "while True:\n",
        "  closest_centroids = df_new['closest'].copy(deep=True)  # DEEP COPY from DataFrame\n",
        "  centroids = update_centroids(df_new, centroids)\n",
        "  df_new = Fit(df_new, centroids)\n",
        "  if closest_centroids.equals(df['closest']): # all nodes have optimized now, nothing further to traverse\n",
        "    break\n",
        "fig = plt.figure(figsize=(5,5))\n",
        "plt.scatter(df_new['x'], df_new['y'], color=df_new['color']) # k means black\n",
        "for i in new_centroids.keys():\n",
        "  plt.scatter(*new_centroids[i], color=color_dic2[i]) # overlaying centroids\n",
        "plt.xlim(0,80) # min and max of scale on x -axis\n",
        "plt.ylim(0,80) # same as above on y axis\n",
        "plt.show()"
      ],
      "execution_count": 12,
      "outputs": [
        {
          "output_type": "display_data",
          "data": {
            "text/plain": [
              "<Figure size 500x500 with 1 Axes>"
            ],
            "image/png": "[encoded data removed]"
          },
          "metadata": {}
        }
      ]
    },
    {
      "cell_type": "code",
      "metadata": {
        "id": "A-n2_ezai7ln"
      },
      "source": [
        "\"\""
      ],
      "execution_count": null,
      "outputs": []
    }
  ]
}